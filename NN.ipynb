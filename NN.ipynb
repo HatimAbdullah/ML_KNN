{
 "cells": [
  {
   "cell_type": "code",
   "execution_count": 1,
   "metadata": {
    "colab": {},
    "colab_type": "code",
    "id": "6maorsMbjtAt"
   },
   "outputs": [],
   "source": [
    "%matplotlib inline\n",
    "import gzip, os\n",
    "import numpy as np\n",
    "import matplotlib.pyplot as plt\n",
    "import time\n",
    "from urllib.request import urlretrieve"
   ]
  },
  {
   "cell_type": "code",
   "execution_count": 2,
   "metadata": {
    "colab": {},
    "colab_type": "code",
    "id": "XM1f-dyFjtAz"
   },
   "outputs": [],
   "source": [
    "# Function that downloads a specified MNIST data file from Yann Le Cun's website\n",
    "def download(filename, source='http://yann.lecun.com/exdb/mnist/'):\n",
    "    print(\"Downloading %s\" % filename)\n",
    "    urlretrieve(source + filename, filename)\n",
    "\n",
    "# Invokes download() if necessary, then reads in images\n",
    "def load_mnist_images(filename):\n",
    "    if not os.path.exists(filename):\n",
    "        download(filename)\n",
    "    with gzip.open(filename, 'rb') as f:\n",
    "        data = np.frombuffer(f.read(), np.uint8, offset=16)\n",
    "    data = data.reshape(-1,784)\n",
    "    return data\n",
    "\n",
    "def load_mnist_labels(filename):\n",
    "    if not os.path.exists(filename):\n",
    "        download(filename)\n",
    "    with gzip.open(filename, 'rb') as f:\n",
    "        data = np.frombuffer(f.read(), np.uint8, offset=8)\n",
    "    return data"
   ]
  },
  {
   "cell_type": "code",
   "execution_count": null,
   "metadata": {
    "colab": {},
    "colab_type": "code",
    "id": "S37PubyO1AxY"
   },
   "outputs": [],
   "source": []
  },
  {
   "cell_type": "code",
   "execution_count": 3,
   "metadata": {
    "colab": {
     "base_uri": "https://localhost:8080/",
     "height": 85
    },
    "colab_type": "code",
    "id": "Yxk7qa5EjtA2",
    "outputId": "86e85e72-5855-4336-8ebb-6c45e6263d62"
   },
   "outputs": [
    {
     "name": "stdout",
     "output_type": "stream",
     "text": [
      "Downloading train-images-idx3-ubyte.gz\n",
      "Downloading train-labels-idx1-ubyte.gz\n",
      "Downloading t10k-images-idx3-ubyte.gz\n",
      "Downloading t10k-labels-idx1-ubyte.gz\n"
     ]
    }
   ],
   "source": [
    "## Load the training set\n",
    "train_data = load_mnist_images('train-images-idx3-ubyte.gz')\n",
    "train_labels = load_mnist_labels('train-labels-idx1-ubyte.gz')\n",
    "\n",
    "## Load the testing set\n",
    "test_data = load_mnist_images('t10k-images-idx3-ubyte.gz')\n",
    "test_labels = load_mnist_labels('t10k-labels-idx1-ubyte.gz')\n",
    "\n",
    "train_data = train_data.astype('int32')\n",
    "test_data = test_data.astype('int32')"
   ]
  },
  {
   "cell_type": "code",
   "execution_count": 4,
   "metadata": {
    "colab": {
     "base_uri": "https://localhost:8080/",
     "height": 85
    },
    "colab_type": "code",
    "id": "Pjig0GrMjtA6",
    "outputId": "c9f69be9-07f0-46a4-8def-99fe1a5d1ef3"
   },
   "outputs": [
    {
     "name": "stdout",
     "output_type": "stream",
     "text": [
      "Training dataset dimensions:  (60000, 784)\n",
      "Number of training labels:  60000\n",
      "Testing dataset dimensions:  (10000, 784)\n",
      "Number of testing labels:  10000\n"
     ]
    }
   ],
   "source": [
    "## Print out their dimensions\n",
    "print(\"Training dataset dimensions: \", np.shape(train_data))\n",
    "print(\"Number of training labels: \", len(train_labels))\n",
    "print(\"Testing dataset dimensions: \", np.shape(test_data))\n",
    "print(\"Number of testing labels: \", len(test_labels))"
   ]
  },
  {
   "cell_type": "code",
   "execution_count": 5,
   "metadata": {
    "colab": {
     "base_uri": "https://localhost:8080/",
     "height": 85
    },
    "colab_type": "code",
    "id": "AnDJUcdOjtA-",
    "outputId": "61bc8279-c06f-4e2c-a745-ec9e34da3447"
   },
   "outputs": [
    {
     "name": "stdout",
     "output_type": "stream",
     "text": [
      "Training set distribution:\n",
      "{0: 5923, 1: 6742, 2: 5958, 3: 6131, 4: 5842, 5: 5421, 6: 5918, 7: 6265, 8: 5851, 9: 5949}\n",
      "Test set distribution:\n",
      "{0: 980, 1: 1135, 2: 1032, 3: 1010, 4: 982, 5: 892, 6: 958, 7: 1028, 8: 974, 9: 1009}\n"
     ]
    }
   ],
   "source": [
    "## Compute the number of examples of each digit\n",
    "train_digits, train_counts = np.unique(train_labels, return_counts=True)\n",
    "print(\"Training set distribution:\")\n",
    "print(dict(zip(train_digits, train_counts)))\n",
    "\n",
    "test_digits, test_counts = np.unique(test_labels, return_counts=True)\n",
    "print(\"Test set distribution:\")\n",
    "print(dict(zip(test_digits, test_counts)))"
   ]
  },
  {
   "cell_type": "code",
   "execution_count": 6,
   "metadata": {
    "colab": {
     "base_uri": "https://localhost:8080/",
     "height": 547
    },
    "colab_type": "code",
    "id": "_2UGpDDcjtBC",
    "outputId": "9189eaa4-72a2-4cd8-85f5-f793db071bb1"
   },
   "outputs": [
    {
     "data": {
      "image/png": "[encoded data removed]",
      "text/plain": [
       "<Figure size 432x288 with 1 Axes>"
      ]
     },
     "metadata": {
      "needs_background": "light"
     },
     "output_type": "display_data"
    },
    {
     "name": "stdout",
     "output_type": "stream",
     "text": [
      "Label 5\n"
     ]
    },
    {
     "data": {
      "image/png": "[encoded data removed]",
      "text/plain": [
       "<Figure size 432x288 with 1 Axes>"
      ]
     },
     "metadata": {
      "needs_background": "light"
     },
     "output_type": "display_data"
    },
    {
     "name": "stdout",
     "output_type": "stream",
     "text": [
      "Label 7\n"
     ]
    }
   ],
   "source": [
    "## Define a function that displays a digit given its vector representation\n",
    "def show_digit(x):\n",
    "    plt.axis('off')\n",
    "    plt.imshow(x.reshape((28,28)), cmap=plt.cm.gray)\n",
    "    plt.show()\n",
    "    return\n",
    "\n",
    "## Define a function that takes an index into a particular data set (\"train\" or \"test\") and displays that image.\n",
    "def vis_image(index, dataset=\"train\"):\n",
    "    if(dataset==\"train\"): \n",
    "        show_digit(train_data[index,])\n",
    "        label = train_labels[index]\n",
    "    else:\n",
    "        show_digit(test_data[index,])\n",
    "        label = test_labels[index]\n",
    "    print(\"Label \" + str(label))\n",
    "    return\n",
    "\n",
    "## View the first data point in the training set\n",
    "vis_image(0, \"train\")\n",
    "\n",
    "## Now view the first data point in the test set\n",
    "vis_image(0, \"test\")"
   ]
  },
  {
   "cell_type": "code",
   "execution_count": 7,
   "metadata": {
    "colab": {},
    "colab_type": "code",
    "id": "JEye8zlvjtBF"
   },
   "outputs": [],
   "source": [
    "from sklearn.model_selection import train_test_split\n",
    "trainx, valx, trainy, valy = train_test_split(train_data, train_labels, test_size=0.20, random_state=42)\n"
   ]
  },
  {
   "cell_type": "code",
   "execution_count": 8,
   "metadata": {
    "colab": {},
    "colab_type": "code",
    "id": "M0v-vCgpjtBI"
   },
   "outputs": [],
   "source": [
    "def L2distance(x,y):\n",
    "    return np.sum(np.square(x-y))\n",
    "\n",
    "def nearestNeighbor(x,trainx,trainy): \n",
    "    distance = [L2distance(x,trainx[i,]) for i in range (len(trainy))]\n",
    "    label = trainy[np.argmin(distance)] \n",
    "    return label\n",
    "\n",
    "def NN_L2(trainx, trainy, evalx):\n",
    "    result = []\n",
    "    for i in range(len(evalx)):\n",
    "        result.append(nearestNeighbor(evalx[i],trainx,trainy))\n",
    "    \n",
    "    return result\n",
    "  \n",
    "\n",
    "values = NN_L2(trainx, trainy, valx)"
   ]
  },
  {
   "cell_type": "code",
   "execution_count": null,
   "metadata": {
    "colab": {
     "base_uri": "https://localhost:8080/",
     "height": 51
    },
    "colab_type": "code",
    "id": "qdxeMdVWjtBL",
    "outputId": "d3b2a7e4-6872-45c6-8c90-8171566d7ef1"
   },
   "outputs": [
    {
     "name": "stdout",
     "output_type": "stream",
     "text": [
      "start\n"
     ]
    }
   ],
   "source": [
    "import statistics \n",
    "from statistics import mode \n",
    "\n",
    "def KnearestNeighbor(x,trainx,trainy,k): \n",
    "    distance = [L2distance(x,trainx[i,]) for i in range (len(trainy))]\n",
    "    Neighbors = np.argpartition(distance,k)\n",
    "    NeighborsLabels = []\n",
    "   \n",
    "    for c in range(k):\n",
    "      NeighborsLabels.append(trainy[Neighbors[c]])\n",
    "\n",
    "    return votes(NeighborsLabels)\n",
    "\n",
    "def votes(Neighbors):\n",
    "    counter = 0\n",
    "    num = Neighbors[0] \n",
    "      \n",
    "    for i in Neighbors: \n",
    "        curr_frequency = Neighbors.count(i) \n",
    "        if(curr_frequency> counter): \n",
    "            counter = curr_frequency \n",
    "            num = i \n",
    "            \n",
    "    return num \n",
    "  \n",
    " \n",
    "\n",
    "def KNN_L2(trainx, trainy, evalx, K):\n",
    "    results = []\n",
    "    for i in range(len(evalx)):\n",
    "        results.append(KnearestNeighbor(evalx[i],trainx,trainy,K))\n",
    "    \n",
    "    return results\n",
    "  \n",
    "print(\"start\")\n",
    "values2 = KNN_L2(trainx,trainy,valx,5)\n",
    "print(\"end\")"
   ]
  },
  {
   "cell_type": "code",
   "execution_count": null,
   "metadata": {
    "colab": {
     "base_uri": "https://localhost:8080/",
     "height": 51
    },
    "colab_type": "code",
    "id": "vKxaFPEdjtBO",
    "outputId": "23da9e1a-4034-4448-c63d-ecdbc3310c77"
   },
   "outputs": [],
   "source": [
    "def L1distance(x,y):\n",
    "  return np.linalg.norm(x - y, ord=1)\n",
    "\n",
    "\n",
    "def nearestNeighborL1(x,trainx,trainy): \n",
    "    distance = [L1distance(x,trainx[i,]) for i in range (len(trainy))]\n",
    "    label = trainy[np.argmin(distance)] \n",
    "    return label\n",
    "  \n",
    "def NN_L1(trainx, trainy, evalx):\n",
    "    result = []\n",
    "    for i in range(len(evalx)):\n",
    "        result.append(nearestNeighborL1(evalx[i],trainx,trainy))\n",
    "    \n",
    "    return result\n",
    "  \n",
    "print(\"start\")\n",
    "values3 = NN_L1(trainx, trainy, valx)\n",
    "print(\"end\")"
   ]
  },
  {
   "cell_type": "code",
   "execution_count": null,
   "metadata": {
    "colab": {
     "base_uri": "https://localhost:8080/",
     "height": 51
    },
    "colab_type": "code",
    "id": "B4umqJQNjtBR",
    "outputId": "7d96f963-3502-408e-a6a7-aa88db096f0d"
   },
   "outputs": [],
   "source": [
    "def KnearestNeighborL1(x,trainx,trainy,k): \n",
    "    distance = [L1distance(x,trainx[i,]) for i in range (len(trainy))]\n",
    "    Neighbors = np.argpartition(distance,k)\n",
    "    NeighborsLabels = []\n",
    "   \n",
    "    for c in range(k):\n",
    "      NeighborsLabels.append(trainy[Neighbors[c]])\n",
    "\n",
    "    return votesL1(NeighborsLabels)\n",
    "\n",
    "def votesL1(Neighbors):\n",
    "    counter = 0\n",
    "    num = Neighbors[0] \n",
    "      \n",
    "    for i in Neighbors: \n",
    "        curr_frequency = Neighbors.count(i) \n",
    "        if(curr_frequency> counter): \n",
    "            counter = curr_frequency \n",
    "            num = i \n",
    "            \n",
    "    return num \n",
    "  \n",
    " \n",
    "\n",
    "def KNN_L1(trainx, trainy, evalx, K):\n",
    "    results = []\n",
    "    for i in range(len(evalx)):\n",
    "        results.append(KnearestNeighborL1(evalx[i],trainx,trainy,K))\n",
    "    \n",
    "    return results\n",
    "  \n",
    "print(\"start\")\n",
    "values4 = KNN_L1(trainx,trainy,valx,5)\n",
    "print(\"end\")"
   ]
  },
  {
   "cell_type": "code",
   "execution_count": null,
   "metadata": {
    "colab": {},
    "colab_type": "code",
    "id": "0-9jBmVTH6EQ"
   },
   "outputs": [],
   "source": [
    "def KNN(trainx, trainy, evalx, K, dist_metric):\n",
    "    if dist_metric == 2:\n",
    "        return KNN_L2(trainx, trainy, evalx, K)\n",
    "    else:\n",
    "        return KNN_L1(trainx, trainy, evalx, K)"
   ]
  },
  {
   "cell_type": "code",
   "execution_count": null,
   "metadata": {
    "colab": {
     "base_uri": "https://localhost:8080/",
     "height": 85
    },
    "colab_type": "code",
    "id": "Z7eTPqRtITJH",
    "outputId": "d97a216d-a680-4a6a-9a21-eb044e70b2e1"
   },
   "outputs": [],
   "source": [
    "print(\"choose a K value...\")\n",
    "K_value = input()\n",
    "print(\"type 1 for manhattan distance mitric and 2 for euclidean distance metric...\")\n",
    "dist_metric = input()\n",
    "\n",
    "print(\"satrt\")\n",
    "values5 = KNN(trainx, trainy, valx, int(K_value), int(dist_metric))\n",
    "print(\"end\")"
   ]
  },
  {
   "cell_type": "code",
   "execution_count": null,
   "metadata": {
    "colab": {
     "base_uri": "https://localhost:8080/",
     "height": 187
    },
    "colab_type": "code",
    "id": "MFOPCX5uZEF9",
    "outputId": "5054e049-7a9c-45a2-a5cc-5ed22915a581"
   },
   "outputs": [],
   "source": [
    "from sklearn.metrics import confusion_matrix\n",
    "results = []\n",
    "errorRate = np.array(results)\n",
    "errorRate = confusion_matrix(valy, values5)\n",
    "print(errorRate)"
   ]
  },
  {
   "cell_type": "code",
   "execution_count": null,
   "metadata": {
    "colab": {
     "base_uri": "https://localhost:8080/",
     "height": 299
    },
    "colab_type": "code",
    "id": "isPRiZc5zBAt",
    "outputId": "b3dda1e4-3068-4ee3-a1dc-5663a99f67ad"
   },
   "outputs": [],
   "source": [
    "vis_image(0,\"trainx\")\n",
    "print(trainy[0])"
   ]
  },
  {
   "cell_type": "code",
   "execution_count": null,
   "metadata": {
    "colab": {
     "base_uri": "https://localhost:8080/",
     "height": 102
    },
    "colab_type": "code",
    "id": "YdRZBpGq1Dbd",
    "outputId": "8358ddf9-5058-41a1-f53b-bb3a8e2aaf27"
   },
   "outputs": [],
   "source": [
    "\n",
    "error_rate = np.mean(values != valy)\n",
    "print(error_rate)\n",
    "\n",
    "error_rate1 = np.mean(valy != values2)\n",
    "print(error_rate1)\n",
    "\n",
    "error_rate2 = np.mean(valy != values3)\n",
    "print(error_rate2)\n",
    "\n",
    "error_rate3 = np.mean(valy != values4)\n",
    "print(error_rate3)\n"
   ]
  },
  {
   "cell_type": "code",
   "execution_count": null,
   "metadata": {},
   "outputs": [],
   "source": []
  },
  {
   "cell_type": "code",
   "execution_count": null,
   "metadata": {},
   "outputs": [],
   "source": []
  }
 ],
 "metadata": {
  "colab": {
   "collapsed_sections": [],
   "name": "assign-Copy1.ipynb",
   "provenance": []
  },
  "kernelspec": {
   "display_name": "Python 3",
   "language": "python",
   "name": "python3"
  },
  "language_info": {
   "codemirror_mode": {
    "name": "ipython",
    "version": 3
   },
   "file_extension": ".py",
   "mimetype": "text/x-python",
   "name": "python",
   "nbconvert_exporter": "python",
   "pygments_lexer": "ipython3",
   "version": "3.7.5"
  }
 },
 "nbformat": 4,
 "nbformat_minor": 1
}
